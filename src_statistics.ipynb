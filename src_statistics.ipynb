{
 "cells": [
  {
   "cell_type": "markdown",
   "metadata": {},
   "source": [
    "# Statistics"
   ]
  },
  {
   "cell_type": "markdown",
   "metadata": {},
   "source": [
    "### Comparison"
   ]
  },
  {
   "cell_type": "code",
   "execution_count": 3,
   "metadata": {},
   "outputs": [
    {
     "name": "stdout",
     "output_type": "stream",
     "text": [
      "Mean MSE: 0.5176677137613297\n"
     ]
    }
   ],
   "source": [
    "# Importere biblioteker\n",
    "from data import *\n",
    "import numpy as np\n",
    "import torch\n",
    "import torch.nn as nn\n",
    "import torch.optim as optim\n",
    "from sklearn.model_selection import KFold\n",
    "from sklearn.preprocessing import StandardScaler\n",
    "\n",
    "# Valg af seed\n",
    "np.random.seed(2)\n",
    "torch.manual_seed(2)\n",
    "\n",
    "\n",
    "# Definere model\n",
    "class LinearRegression(nn.Module):\n",
    "    def __init__(self, input_size, output_size):\n",
    "        super(LinearRegression, self).__init__()\n",
    "        self.linear = nn.Linear(input_size, output_size)\n",
    "\n",
    "    def forward(self, x):\n",
    "        return self.linear(x)\n",
    "    \n",
    "# konvertere data til tensor\n",
    "X_tensor = torch.tensor(X, dtype=torch.float32)\n",
    "y_tensor = torch.tensor(y, dtype=torch.float32).view(-1, 1)\n",
    "\n",
    "# anatal k fold\n",
    "kf = KFold(n_splits=10, shuffle=True)\n",
    "\n",
    "# Lambda værdi\n",
    "lambda_val = 10**(-8)\n",
    "\n",
    "# Liste af værdier vi vil gemme\n",
    "mse_values = []\n",
    "y_true_linreg = np.array([])\n",
    "y_hat_lingreg = np.array([])\n",
    "# r2_values = []\n",
    "\n",
    "# K fold loop\n",
    "for train_idx, test_idx in kf.split(X_tensor):\n",
    "    x_train, x_test = X_tensor[train_idx], X_tensor[test_idx]\n",
    "    y_train, y_test = y_tensor[train_idx], y_tensor[test_idx]\n",
    "\n",
    "    # Valg af model og loss funktion\n",
    "    model = LinearRegression(input_size=X_tensor.shape[1], output_size=1)\n",
    "    criterion = nn.MSELoss()\n",
    "    optimizer = optim.SGD(model.parameters(), lr=0.01, weight_decay=lambda_val)\n",
    "\n",
    "    # Model træning\n",
    "    model.train()\n",
    "    for epoch in range(100):\n",
    "        optimizer.zero_grad()\n",
    "        outputs = model(x_train)\n",
    "        loss = criterion(outputs, y_train)\n",
    "        loss.backward()\n",
    "        optimizer.step()\n",
    "    \n",
    "    # Evaluering af model\n",
    "    model.eval()\n",
    "    with torch.no_grad():\n",
    "        y_pred = model(x_test)\n",
    "\n",
    "        # Gemme værdier for den sande værdi og den predikterede værdi\n",
    "        y_hat_lingreg = np.concatenate((y_hat_lingreg,y_pred.numpy().flatten()))\n",
    "        y_true_linreg = np.concatenate((y_true_linreg,y_test.numpy().flatten()))\n",
    "        \n",
    "        # Beregning af MSE\n",
    "        mse = criterion(y_pred, y_test)\n",
    "        mse_values.append(mse.item())\n",
    "\n",
    "        # # Beregning af R^2\n",
    "        # r2 = r2_score(y_test.numpy(), y_pred.numpy())\n",
    "        # r2_values.append(r2)\n",
    "\n",
    "# vis mse\n",
    "print(\"Mean MSE:\", np.mean(mse_values))\n",
    "\n",
    "# vis R^2\n",
    "# print(\"Mean R^2:\", np.mean(r2_values))"
   ]
  },
  {
   "cell_type": "code",
   "execution_count": null,
   "metadata": {},
   "outputs": [],
   "source": [
    "# Udregn error for linreg vektor\n",
    "error_linreg = linreg_error = (y_hat_lingreg - y_true_linreg)**2"
   ]
  },
  {
   "cell_type": "code",
   "execution_count": 5,
   "metadata": {},
   "outputs": [
    {
     "data": {
      "text/plain": [
       "0.4811593838877608"
      ]
     },
     "execution_count": 5,
     "metadata": {},
     "output_type": "execute_result"
    }
   ],
   "source": [
    "from sklearn.metrics import r2_score\n",
    "r2_score_linreg = r2_score(y_true_linreg, y_hat_lingreg)\n",
    "r2_score_linreg\n"
   ]
  },
  {
   "cell_type": "markdown",
   "metadata": {},
   "source": [
    "### ANN"
   ]
  },
  {
   "cell_type": "code",
   "execution_count": 4,
   "metadata": {},
   "outputs": [
    {
     "data": {
      "text/plain": [
       "0.6677358567714691"
      ]
     },
     "execution_count": 4,
     "metadata": {},
     "output_type": "execute_result"
    }
   ],
   "source": [
    "# Importere biblioteker\n",
    "from data import *\n",
    "import numpy as np\n",
    "import torch\n",
    "import torch.nn as nn\n",
    "import torch.optim as optim\n",
    "from sklearn.model_selection import KFold\n",
    "from sklearn.preprocessing import StandardScaler\n",
    "\n",
    "# Valg af seed\n",
    "np.random.seed(2)\n",
    "torch.manual_seed(2)\n",
    "\n",
    "# Definere model\n",
    "class ANNModel(nn.Module):\n",
    "    def __init__(self, input_dim, hidden_units):\n",
    "        super(ANNModel, self).__init__()\n",
    "        self.layer1 = nn.Linear(input_dim, hidden_units)\n",
    "        self.layer2 = nn.Linear(hidden_units, 1)\n",
    "        self.relu = nn.ReLU()\n",
    "\n",
    "    def forward(self, x):\n",
    "        x = self.layer1(x)\n",
    "        x = self.relu(x)\n",
    "        x = self.layer2(x)\n",
    "        return x\n",
    "    \n",
    "# Convert the data to tensors\n",
    "X_tensor = torch.tensor(X, dtype=torch.float32)\n",
    "y_tensor = torch.tensor(y, dtype=torch.float32).view(-1, 1)\n",
    "\n",
    "# valg af k fold\n",
    "kf = KFold(n_splits=10, shuffle=True)\n",
    "\n",
    "# Hidden units værdier sættes\n",
    "hidden_units = 9\n",
    "# initialisere lister \n",
    "mse_values = []\n",
    "y_true_ann = np.array([])\n",
    "y_hat_ann = np.array([])\n",
    "\n",
    "# K-fold loop\n",
    "for train_idx, test_idx in kf.split(X_tensor):\n",
    "    x_train, x_test = X_tensor[train_idx], X_tensor[test_idx]\n",
    "    y_train, y_test = y_tensor[train_idx], y_tensor[test_idx]\n",
    "\n",
    "    # Model og loss funktion\n",
    "    model = ANNModel(input_dim=X.shape[1], hidden_units=hidden_units)\n",
    "    criterion = nn.MSELoss()\n",
    "    optimizer = optim.SGD(model.parameters(), lr=0.01) \n",
    "\n",
    "    # Trænningsloop\n",
    "    model.train()\n",
    "    for epoch in range(100):\n",
    "        optimizer.zero_grad()\n",
    "        outputs = model(x_train)\n",
    "        loss = criterion(outputs, y_train)\n",
    "        loss.backward()\n",
    "        optimizer.step()\n",
    "    \n",
    "    # Evaluering af model\n",
    "    model.eval()\n",
    "    with torch.no_grad():\n",
    "        y_pred = model(x_test)\n",
    "        y_hat_ann = np.concatenate((y_hat_ann,y_pred.numpy().flatten()))\n",
    "        y_true_ann = np.concatenate((y_true_ann,y_test.numpy().flatten()))\n",
    "        \n",
    "        mse = criterion(y_pred, y_test)\n",
    "        mse_values.append(mse.item())\n",
    "np.mean(mse_values)"
   ]
  },
  {
   "cell_type": "code",
   "execution_count": null,
   "metadata": {},
   "outputs": [],
   "source": [
    "# Udregn error for ann vektor\n",
    "error_ann = (y_hat_ann - y_true_ann)**2\n",
    "\n",
    "# tester om dimensionerne er ens\n",
    "error_linreg.shape, error_ann.shape\n"
   ]
  },
  {
   "cell_type": "markdown",
   "metadata": {},
   "source": [
    "### Baseline"
   ]
  },
  {
   "cell_type": "code",
   "execution_count": 23,
   "metadata": {},
   "outputs": [
    {
     "data": {
      "text/plain": [
       "1.000981366634369"
      ]
     },
     "execution_count": 23,
     "metadata": {},
     "output_type": "execute_result"
    }
   ],
   "source": [
    "# Importere biblioteker\n",
    "from data import *\n",
    "import numpy as np\n",
    "import torch\n",
    "import torch.nn as nn\n",
    "import torch.optim as optim\n",
    "from sklearn.model_selection import KFold\n",
    "from sklearn.preprocessing import StandardScaler\n",
    "\n",
    "# valg af seed\n",
    "np.random.seed(2)\n",
    "torch.manual_seed(2)\n",
    "\n",
    "# konvertere til tensor   \n",
    "X_tensor = torch.tensor(X, dtype=torch.float32)\n",
    "y_tensor = torch.tensor(y, dtype=torch.float32).view(-1, 1)\n",
    "\n",
    "# valg af k fold\n",
    "kf = KFold(n_splits=10, shuffle=True)\n",
    "\n",
    "# initialisere lister\n",
    "mse_values = []\n",
    "y_true_base = np.array([])\n",
    "y_hat_base = np.array([])\n",
    "\n",
    "# K fold loop\n",
    "for train_idx, test_idx in kf.split(X_tensor):\n",
    "    x_train, x_test = X_tensor[train_idx], X_tensor[test_idx]\n",
    "    y_train, y_test = y_tensor[train_idx], y_tensor[test_idx]\n",
    "    \n",
    "    # udregner gennemsnittet for træningsdata\n",
    "    y_mean = y_train.mean()\n",
    "\n",
    "    # Beregning af MSE\n",
    "    y_pred = y_mean.repeat(y_test.shape[0], 1)\n",
    "\n",
    "    # Gemme værdier for den sande værdi og den predikterede værdi\n",
    "    y_hat_base = np.concatenate((y_hat_base,y_pred.numpy().flatten()))\n",
    "    y_true_base = np.concatenate((y_true_base,y_test.numpy().flatten()))  \n",
    "    mse = criterion(y_pred, y_test)\n",
    "    mse_values.append(mse.item())\n",
    "\n",
    "# Udregn error for baseline vektor\n",
    "error_base = (y_hat_base - y_true_base)**2\n",
    "np.mean(mse_values)    "
   ]
  },
  {
   "cell_type": "code",
   "execution_count": 25,
   "metadata": {},
   "outputs": [
    {
     "data": {
      "text/plain": [
       "(TtestResult(statistic=-5.6919346119432515, pvalue=2.2942231604709003e-08, df=441),\n",
       " TtestResult(statistic=-10.325542601340365, pvalue=1.568240365173687e-22, df=441),\n",
       " TtestResult(statistic=-9.475504026424664, pvalue=1.6396805799028226e-19, df=441))"
      ]
     },
     "execution_count": 25,
     "metadata": {},
     "output_type": "execute_result"
    }
   ],
   "source": [
    "from scipy import stats\n",
    "lin_vs_ann = stats.ttest_rel(error_linreg, error_ann)\n",
    "lin_vs_base = stats.ttest_rel(error_linreg, error_base)\n",
    "ann_vs_base = stats.ttest_rel(error_ann, error_base)\n",
    "\n",
    "lin_vs_ann, lin_vs_base, ann_vs_base\n"
   ]
  },
  {
   "cell_type": "code",
   "execution_count": 40,
   "metadata": {},
   "outputs": [
    {
     "name": "stdout",
     "output_type": "stream",
     "text": [
      "lin vs ann (-0.20161767686315812, -0.09812133465746076)\n",
      "lin vs base (-0.5750239506831848, -0.39112728194443824)\n",
      "ann vs base (-0.40231792092495355, -0.2640943001820507)\n"
     ]
    }
   ],
   "source": [
    "import numpy as np\n",
    "from scipy import stats\n",
    "\n",
    "def calculate_confidence_interval(error1, error2):\n",
    "    # Calculate the difference and its mean and standard error\n",
    "    difference = error1 - error2\n",
    "    mean_diff = np.mean(difference)\n",
    "    std_err_diff = np.std(difference, ddof=1) / np.sqrt(442)\n",
    "    df = 441\n",
    "\n",
    "    # Calculate the confidence interval\n",
    "    confidence_interval = stats.t.interval(0.95, df, loc=mean_diff, scale=std_err_diff)\n",
    "\n",
    "    return confidence_interval\n",
    "\n",
    "\n",
    "print('lin vs ann', calculate_confidence_interval(error_linreg, error_ann))\n",
    "print('lin vs base', calculate_confidence_interval(error_linreg, error_base))\n",
    "print('ann vs base', calculate_confidence_interval(error_ann, error_base))"
   ]
  },
  {
   "cell_type": "markdown",
   "metadata": {},
   "source": [
    "## Classification "
   ]
  },
  {
   "cell_type": "markdown",
   "metadata": {},
   "source": [
    "### Logistic regression"
   ]
  },
  {
   "cell_type": "code",
   "execution_count": null,
   "metadata": {},
   "outputs": [],
   "source": []
  },
  {
   "cell_type": "code",
   "execution_count": 34,
   "metadata": {},
   "outputs": [
    {
     "data": {
      "text/plain": [
       "0.3029797911643982"
      ]
     },
     "execution_count": 34,
     "metadata": {},
     "output_type": "execute_result"
    }
   ],
   "source": [
    "import numpy as np\n",
    "import torch\n",
    "import torch.nn as nn\n",
    "import torch.optim as optim\n",
    "from sklearn.model_selection import KFold\n",
    "from data import *\n",
    "\n",
    "np.random.seed(2)\n",
    "torch.manual_seed(2)\n",
    "\n",
    "# Define the Logistic Regression model in PyTorch.\n",
    "class LogisticRegressionModel(nn.Module):\n",
    "    def __init__(self, input_dim):\n",
    "        super(LogisticRegressionModel, self).__init__()\n",
    "        self.linear = nn.Linear(input_dim, 1)\n",
    "\n",
    "    def forward(self, x):\n",
    "        return torch.sigmoid(self.linear(x))\n",
    "\n",
    "# Convert the numpy arrays to PyTorch tensors\n",
    "X_torch = torch.from_numpy(X.astype(np.float32))\n",
    "\n",
    "# Convert the target to binary labels\n",
    "y = (y > np.median(y)).astype(int)  # 1 if y is above the median, 0 otherwise\n",
    "y_torch = torch.from_numpy(y.astype(np.float32)).view(-1, 1)\n",
    "\n",
    "kf = KFold(n_splits=10, shuffle=True)\n",
    "\n",
    "# Set lambda value\n",
    "lambda_val = 10**(-1)\n",
    "\n",
    "# List of important values\n",
    "error_values = []\n",
    "y_true_logreg = np.array([])\n",
    "y_hat_logreg = np.array([])\n",
    "weights = []\n",
    "\n",
    "for train_idx, test_idx in kf.split(X_torch):\n",
    "    x_train, x_test = X_torch[train_idx], X_torch[test_idx]\n",
    "    y_train, y_test = y_torch[train_idx], y_torch[test_idx]\n",
    "\n",
    "    model = LogisticRegressionModel(input_dim=X_torch.shape[1])\n",
    "    criterion = nn.BCELoss()\n",
    "    optimizer = optim.SGD(model.parameters(), lr=0.01, weight_decay=lambda_val)\n",
    "\n",
    "    model.train()\n",
    "    for epoch in range(100):\n",
    "        optimizer.zero_grad()\n",
    "        outputs = model(x_train)\n",
    "        loss = criterion(outputs, y_train)\n",
    "        loss.backward()\n",
    "        optimizer.step()\n",
    "    \n",
    "    model.eval()\n",
    "    with torch.no_grad():\n",
    "        y_pred = model(x_test)\n",
    "        y_pred = (y_pred > 0.5).float()\n",
    "\n",
    "        # Save information\n",
    "        y_hat_logreg = np.concatenate((y_hat_logreg,y_pred.numpy().flatten()))\n",
    "        y_true_logreg = np.concatenate((y_true_logreg,y_test.numpy().flatten()))\n",
    "        val_error = 1 - torch.mean(y_pred.eq(y_test).float()).item()\n",
    "        error_values.append(val_error)\n",
    "        weights.append(model.linear.weight.detach().numpy().flatten())\n",
    "        \n",
    "        \n",
    "np.mean(error_values)        "
   ]
  },
  {
   "cell_type": "code",
   "execution_count": 38,
   "metadata": {},
   "outputs": [
    {
     "data": {
      "text/html": [
       "<div>\n",
       "<style scoped>\n",
       "    .dataframe tbody tr th:only-of-type {\n",
       "        vertical-align: middle;\n",
       "    }\n",
       "\n",
       "    .dataframe tbody tr th {\n",
       "        vertical-align: top;\n",
       "    }\n",
       "\n",
       "    .dataframe thead th {\n",
       "        text-align: right;\n",
       "    }\n",
       "</style>\n",
       "<table border=\"1\" class=\"dataframe\">\n",
       "  <thead>\n",
       "    <tr style=\"text-align: right;\">\n",
       "      <th></th>\n",
       "      <th>Attribute</th>\n",
       "      <th>Logistic Regression</th>\n",
       "      <th>Linear Regression</th>\n",
       "    </tr>\n",
       "  </thead>\n",
       "  <tbody>\n",
       "    <tr>\n",
       "      <th>0</th>\n",
       "      <td>age</td>\n",
       "      <td>0.024566</td>\n",
       "      <td>0.007037</td>\n",
       "    </tr>\n",
       "    <tr>\n",
       "      <th>1</th>\n",
       "      <td>sex</td>\n",
       "      <td>-0.002360</td>\n",
       "      <td>-0.156128</td>\n",
       "    </tr>\n",
       "    <tr>\n",
       "      <th>2</th>\n",
       "      <td>bmi</td>\n",
       "      <td>0.169931</td>\n",
       "      <td>0.327291</td>\n",
       "    </tr>\n",
       "    <tr>\n",
       "      <th>3</th>\n",
       "      <td>bp</td>\n",
       "      <td>0.130680</td>\n",
       "      <td>0.196134</td>\n",
       "    </tr>\n",
       "    <tr>\n",
       "      <th>4</th>\n",
       "      <td>tc</td>\n",
       "      <td>-0.022043</td>\n",
       "      <td>-0.415150</td>\n",
       "    </tr>\n",
       "    <tr>\n",
       "      <th>5</th>\n",
       "      <td>ldl</td>\n",
       "      <td>-0.032871</td>\n",
       "      <td>0.242557</td>\n",
       "    </tr>\n",
       "    <tr>\n",
       "      <th>6</th>\n",
       "      <td>hdl</td>\n",
       "      <td>-0.155940</td>\n",
       "      <td>-0.002678</td>\n",
       "    </tr>\n",
       "    <tr>\n",
       "      <th>7</th>\n",
       "      <td>tch</td>\n",
       "      <td>0.130568</td>\n",
       "      <td>0.065762</td>\n",
       "    </tr>\n",
       "    <tr>\n",
       "      <th>8</th>\n",
       "      <td>ltg</td>\n",
       "      <td>0.221328</td>\n",
       "      <td>0.425843</td>\n",
       "    </tr>\n",
       "    <tr>\n",
       "      <th>9</th>\n",
       "      <td>glu</td>\n",
       "      <td>0.083172</td>\n",
       "      <td>0.047968</td>\n",
       "    </tr>\n",
       "  </tbody>\n",
       "</table>\n",
       "</div>"
      ],
      "text/plain": [
       "  Attribute  Logistic Regression  Linear Regression\n",
       "0       age             0.024566           0.007037\n",
       "1       sex            -0.002360          -0.156128\n",
       "2       bmi             0.169931           0.327291\n",
       "3        bp             0.130680           0.196134\n",
       "4        tc            -0.022043          -0.415150\n",
       "5       ldl            -0.032871           0.242557\n",
       "6       hdl            -0.155940          -0.002678\n",
       "7       tch             0.130568           0.065762\n",
       "8       ltg             0.221328           0.425843\n",
       "9       glu             0.083172           0.047968"
      ]
     },
     "execution_count": 38,
     "metadata": {},
     "output_type": "execute_result"
    }
   ],
   "source": [
    "attributeNames\n",
    "log_weights = np.array(pd.DataFrame(weights).mean())\n",
    "reg_weights = np.array([ 0.00703682, -0.15612847,  0.32729139,  0.19613386, -0.41514995, 0.24255697, -0.00267846,  0.0657622 ,  0.4258426 ,  0.04796806])\n",
    "reg_weights.shape, log_weights.shape, attributeNames.shape\n",
    "\n",
    "all_weights = pd.DataFrame({'Attribute': attributeNames[1:], 'Logistic Regression': log_weights[1:], 'Linear Regression': reg_weights})\n",
    "all_weights\n"
   ]
  },
  {
   "cell_type": "markdown",
   "metadata": {},
   "source": [
    "### ANN"
   ]
  },
  {
   "cell_type": "code",
   "execution_count": 52,
   "metadata": {},
   "outputs": [
    {
     "data": {
      "text/plain": [
       "0.43025252521038054"
      ]
     },
     "execution_count": 52,
     "metadata": {},
     "output_type": "execute_result"
    }
   ],
   "source": [
    "import numpy as np\n",
    "import torch\n",
    "import torch.nn as nn\n",
    "import torch.optim as optim\n",
    "from sklearn.model_selection import KFold\n",
    "from data import *\n",
    "\n",
    "np.random.seed(2)\n",
    "torch.manual_seed(2)\n",
    "\n",
    "class ANNModel(nn.Module):\n",
    "    def __init__(self, input_dim, hidden_units):\n",
    "        super(ANNModel, self).__init__()\n",
    "        self.layer1 = nn.Linear(input_dim, hidden_units)\n",
    "        self.layer2 = nn.Linear(hidden_units, 1)\n",
    "        self.relu = nn.ReLU()\n",
    "        self.sigmoid = nn.Sigmoid()\n",
    "\n",
    "    def forward(self, x):\n",
    "        x = self.layer1(x)\n",
    "        x = self.relu(x)\n",
    "        x = self.layer2(x)\n",
    "        x = self.sigmoid(x)\n",
    "        return x\n",
    "\n",
    "# Convert the numpy arrays to PyTorch tensors\n",
    "X_torch = torch.from_numpy(X.astype(np.float32))\n",
    "\n",
    "# Convert the target to binary labels\n",
    "y = (y > np.median(y)).astype(int)  # 1 if y is above the median, 0 otherwise\n",
    "y_torch = torch.from_numpy(y.astype(np.float32)).view(-1, 1)\n",
    "\n",
    "kf = KFold(n_splits=10, shuffle=True)\n",
    "\n",
    "# Set lambda value\n",
    "hidden_units = 10\n",
    "\n",
    "# List of important values\n",
    "error_values = []\n",
    "y_true_class_ann = np.array([])\n",
    "y_hat_class_ann = np.array([])\n",
    "\n",
    "for train_idx, test_idx in kf.split(X_torch):\n",
    "    x_train, x_test = X_torch[train_idx], X_torch[test_idx]\n",
    "    y_train, y_test = y_torch[train_idx], y_torch[test_idx]\n",
    "\n",
    "    model = ANNModel(input_dim=X.shape[1], hidden_units=hidden_units)\n",
    "    criterion = nn.BCELoss()\n",
    "    optimizer = optim.SGD(model.parameters(), lr=0.01)\n",
    "\n",
    "    model.train()\n",
    "    for epoch in range(100):\n",
    "        optimizer.zero_grad()\n",
    "        outputs = model(x_train)\n",
    "        loss = criterion(outputs, y_train)\n",
    "        loss.backward()\n",
    "        optimizer.step()\n",
    "    \n",
    "    model.eval()\n",
    "    with torch.no_grad():\n",
    "        y_pred = model(x_test)\n",
    "        y_pred = (y_pred > 0.5).float()\n",
    "\n",
    "        # Save information\n",
    "        y_true_class_ann = np.concatenate((y_true_class_ann,y_test.numpy().flatten()))\n",
    "        y_hat_class_ann = np.concatenate((y_hat_class_ann,y_pred.numpy().flatten()))\n",
    "        \n",
    "        val_error = 1 - torch.mean(y_pred.eq(y_test).float()).item()\n",
    "        error_values.append(val_error)\n",
    "        \n",
    "        \n",
    "np.mean(error_values)        "
   ]
  },
  {
   "cell_type": "markdown",
   "metadata": {},
   "source": [
    "### Baseline"
   ]
  },
  {
   "cell_type": "code",
   "execution_count": 48,
   "metadata": {},
   "outputs": [
    {
     "data": {
      "text/plain": [
       "0.5383838383838384"
      ]
     },
     "execution_count": 48,
     "metadata": {},
     "output_type": "execute_result"
    }
   ],
   "source": [
    "from sklearn.dummy import DummyClassifier\n",
    "from sklearn.metrics import accuracy_score\n",
    "from data import *\n",
    "\n",
    "# Convert the target back to numpy array for sklearn\n",
    "y_np = y_torch.numpy()\n",
    "\n",
    "# Create the dummy classifier\n",
    "dummy_clf = DummyClassifier(strategy=\"most_frequent\")\n",
    "\n",
    "\n",
    "# List of important values\n",
    "error_values = []\n",
    "y_true_class_base = np.array([])\n",
    "y_hat_class_base = np.array([])\n",
    "\n",
    "for train_idx, test_idx in kf.split(X_torch):\n",
    "    x_train, x_test = X_torch[train_idx], X_torch[test_idx]\n",
    "    y_train, y_test = y_np[train_idx], y_np[test_idx]\n",
    "\n",
    "    dummy_clf.fit(x_train, y_train)\n",
    "    y_pred = dummy_clf.predict(x_test)\n",
    "\n",
    "    # Save information\n",
    "    y_true_class_base = np.concatenate((y_true_class_base,y_test.flatten()))\n",
    "    y_hat_class_base = np.concatenate((y_hat_class_base,y_pred.flatten()))\n",
    "    val_error = 1 - accuracy_score(y_test, y_pred)\n",
    "    error_values.append(val_error)\n",
    "    \n",
    "np.mean(error_values)"
   ]
  },
  {
   "cell_type": "markdown",
   "metadata": {},
   "source": [
    "### mcnemar"
   ]
  },
  {
   "cell_type": "code",
   "execution_count": 60,
   "metadata": {},
   "outputs": [
    {
     "name": "stdout",
     "output_type": "stream",
     "text": [
      "LinReg vs Base\n",
      "Result of McNemars test using alpha= 0.05\n",
      "Comparison matrix n\n",
      "[[200. 108.]\n",
      " [ 52.  82.]]\n",
      "Approximate 1-alpha confidence interval of theta: [thetaL,thetaU] =  (0.07174521528095323, 0.18126717991609032)\n",
      "p-value for two-sided test A and B have same accuracy (exact binomial test): p= 1.1307691767152704e-05\n",
      "theta 0.12669683257918551  CI:  (0.07174521528095323, 0.18126717991609032) p-value 1.1307691767152704e-05\n",
      "\n",
      "LogReg vs Base\n",
      "Result of McNemars test using alpha= 0.05\n",
      "Comparison matrix n\n",
      "[[143. 165.]\n",
      " [ 59.  75.]]\n",
      "Approximate 1-alpha confidence interval of theta: [thetaL,thetaU] =  (0.17692836754280727, 0.3017308673170236)\n",
      "p-value for two-sided test A and B have same accuracy (exact binomial test): p= 8.507217716900644e-13\n",
      "theta 0.2398190045248869  CI:  (0.17692836754280727, 0.3017308673170236) p-value 8.507217716900644e-13\n",
      "\n",
      "ANN vs Base\n",
      "Result of McNemars test using alpha= 0.05\n",
      "Comparison matrix n\n",
      "[[147. 105.]\n",
      " [ 55. 135.]]\n",
      "Approximate 1-alpha confidence interval of theta: [thetaL,thetaU] =  (0.0579328886108077, 0.16796896329596223)\n",
      "p-value for two-sided test A and B have same accuracy (exact binomial test): p= 9.498705720693434e-05\n",
      "theta 0.11312217194570136  CI:  (0.0579328886108077, 0.16796896329596223) p-value 9.498705720693434e-05\n",
      "\n"
     ]
    }
   ],
   "source": [
    "alpha = 0.05\n",
    "\n",
    "print(\"LinReg vs Base\")\n",
    "log_vs_ann = mcnemar(y_true_logreg, y_hat_logreg, y_hat_class_ann, alpha=alpha)\n",
    "print(\"theta\", log_vs_ann[0], \" CI: \", log_vs_ann[1], \"p-value\", log_vs_ann[2])\n",
    "print()\n",
    "\n",
    "print(\"LogReg vs Base\")\n",
    "log_vs_base = mcnemar(y_true_logreg, y_hat_logreg, y_hat_class_base, alpha=alpha)\n",
    "print(\"theta\", log_vs_base[0], \" CI: \", log_vs_base[1], \"p-value\", log_vs_base[2])\n",
    "print()\n",
    "\n",
    "print(\"ANN vs Base\")\n",
    "ann_vs_base = mcnemar(y_true_class_ann, y_hat_class_ann, y_hat_class_base, alpha=alpha)\n",
    "print(\"theta\", ann_vs_base[0], \" CI: \", ann_vs_base[1], \"p-value\", ann_vs_base[2])\n",
    "print()\n",
    "\n",
    "\n"
   ]
  },
  {
   "cell_type": "code",
   "execution_count": null,
   "metadata": {},
   "outputs": [],
   "source": []
  }
 ],
 "metadata": {
  "kernelspec": {
   "display_name": "ml",
   "language": "python",
   "name": "python3"
  },
  "language_info": {
   "codemirror_mode": {
    "name": "ipython",
    "version": 3
   },
   "file_extension": ".py",
   "mimetype": "text/x-python",
   "name": "python",
   "nbconvert_exporter": "python",
   "pygments_lexer": "ipython3",
   "version": "3.11.7"
  }
 },
 "nbformat": 4,
 "nbformat_minor": 2
}
