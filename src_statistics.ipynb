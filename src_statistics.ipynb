{
 "cells": [
  {
   "cell_type": "markdown",
   "metadata": {},
   "source": [
    "# Statistics"
   ]
  },
  {
   "cell_type": "markdown",
   "metadata": {},
   "source": [
    "### Comparison"
   ]
  },
  {
   "cell_type": "code",
   "execution_count": 2,
   "metadata": {},
   "outputs": [
    {
     "data": {
      "text/plain": [
       "0.5176677137613297"
      ]
     },
     "execution_count": 2,
     "metadata": {},
     "output_type": "execute_result"
    }
   ],
   "source": [
    "from data import *\n",
    "import numpy as np\n",
    "import torch\n",
    "import torch.nn as nn\n",
    "import torch.optim as optim\n",
    "from sklearn.model_selection import KFold\n",
    "from sklearn.preprocessing import StandardScaler\n",
    "\n",
    "np.random.seed(2)\n",
    "torch.manual_seed(2)\n",
    "\n",
    "\n",
    "# Define the linear regression model\n",
    "class LinearRegression(nn.Module):\n",
    "    def __init__(self, input_size, output_size):\n",
    "        super(LinearRegression, self).__init__()\n",
    "        self.linear = nn.Linear(input_size, output_size)\n",
    "\n",
    "    def forward(self, x):\n",
    "        return self.linear(x)\n",
    "    \n",
    "# Convert the data to tensors\n",
    "X_tensor = torch.tensor(X, dtype=torch.float32)\n",
    "y_tensor = torch.tensor(y, dtype=torch.float32).view(-1, 1)\n",
    "\n",
    "# Define k-fold cross-validation\n",
    "kf = KFold(n_splits=10, shuffle=True)\n",
    "\n",
    "# Define the lambda value\n",
    "lambda_val = 10**(-8)\n",
    "\n",
    "# List of important mse values\n",
    "mse_values = []\n",
    "y_true_linreg = np.array([])\n",
    "y_hat_lingreg = np.array([])\n",
    "\n",
    "for train_idx, test_idx in kf.split(X_tensor):\n",
    "    x_train, x_test = X_tensor[train_idx], X_tensor[test_idx]\n",
    "    y_train, y_test = y_tensor[train_idx], y_tensor[test_idx]\n",
    "\n",
    "    model = LinearRegression(input_size=X_tensor.shape[1], output_size=1)\n",
    "    criterion = nn.MSELoss()\n",
    "    optimizer = optim.SGD(model.parameters(), lr=0.01, weight_decay=lambda_val)\n",
    "\n",
    "    model.train()\n",
    "    for epoch in range(100):\n",
    "        optimizer.zero_grad()\n",
    "        outputs = model(x_train)\n",
    "        loss = criterion(outputs, y_train)\n",
    "        loss.backward()\n",
    "        optimizer.step()\n",
    "    \n",
    "    model.eval()\n",
    "    with torch.no_grad():\n",
    "        y_pred = model(x_test)\n",
    "        y_hat_lingreg = np.concatenate((y_hat_lingreg,y_pred.numpy().flatten()))\n",
    "        y_true_linreg = np.concatenate((y_true_linreg,y_test.numpy().flatten()))\n",
    "        \n",
    "        mse = criterion(y_pred, y_test)\n",
    "        mse_values.append(mse.item())\n",
    "np.mean(mse_values)    "
   ]
  },
  {
   "cell_type": "code",
   "execution_count": 3,
   "metadata": {},
   "outputs": [],
   "source": [
    "error_linreg = linreg_error = (y_hat_lingreg - y_true_linreg)**2"
   ]
  },
  {
   "cell_type": "markdown",
   "metadata": {},
   "source": [
    "### ANN"
   ]
  },
  {
   "cell_type": "code",
   "execution_count": 4,
   "metadata": {},
   "outputs": [
    {
     "data": {
      "text/plain": [
       "0.6677358567714691"
      ]
     },
     "execution_count": 4,
     "metadata": {},
     "output_type": "execute_result"
    }
   ],
   "source": [
    "from data import *\n",
    "import numpy as np\n",
    "import torch\n",
    "import torch.nn as nn\n",
    "import torch.optim as optim\n",
    "from sklearn.model_selection import KFold\n",
    "from sklearn.preprocessing import StandardScaler\n",
    "\n",
    "np.random.seed(2)\n",
    "torch.manual_seed(2)\n",
    "\n",
    "\n",
    "class ANNModel(nn.Module):\n",
    "    def __init__(self, input_dim, hidden_units):\n",
    "        super(ANNModel, self).__init__()\n",
    "        self.layer1 = nn.Linear(input_dim, hidden_units)\n",
    "        self.layer2 = nn.Linear(hidden_units, 1)\n",
    "        self.relu = nn.ReLU()\n",
    "\n",
    "    def forward(self, x):\n",
    "        x = self.layer1(x)\n",
    "        x = self.relu(x)\n",
    "        x = self.layer2(x)\n",
    "        return x\n",
    "    \n",
    "# Convert the data to tensors\n",
    "X_tensor = torch.tensor(X, dtype=torch.float32)\n",
    "y_tensor = torch.tensor(y, dtype=torch.float32).view(-1, 1)\n",
    "\n",
    "# Define k-fold cross-validation\n",
    "kf = KFold(n_splits=10, shuffle=True)\n",
    "\n",
    "# Define the lambda value\n",
    "hidden_units = 9\n",
    "# List of important mse values\n",
    "mse_values = []\n",
    "y_true_ann = np.array([])\n",
    "y_hat_ann = np.array([])\n",
    "\n",
    "for train_idx, test_idx in kf.split(X_tensor):\n",
    "    x_train, x_test = X_tensor[train_idx], X_tensor[test_idx]\n",
    "    y_train, y_test = y_tensor[train_idx], y_tensor[test_idx]\n",
    "\n",
    "    model = ANNModel(input_dim=X.shape[1], hidden_units=hidden_units)\n",
    "    criterion = nn.MSELoss()\n",
    "    optimizer = optim.SGD(model.parameters(), lr=0.01)  # No regularization\n",
    "\n",
    "    model.train()\n",
    "    for epoch in range(100):\n",
    "        optimizer.zero_grad()\n",
    "        outputs = model(x_train)\n",
    "        loss = criterion(outputs, y_train)\n",
    "        loss.backward()\n",
    "        optimizer.step()\n",
    "    \n",
    "    model.eval()\n",
    "    with torch.no_grad():\n",
    "        y_pred = model(x_test)\n",
    "        y_hat_ann = np.concatenate((y_hat_ann,y_pred.numpy().flatten()))\n",
    "        y_true_ann = np.concatenate((y_true_ann,y_test.numpy().flatten()))\n",
    "        \n",
    "        mse = criterion(y_pred, y_test)\n",
    "        mse_values.append(mse.item())\n",
    "np.mean(mse_values)"
   ]
  },
  {
   "cell_type": "code",
   "execution_count": 7,
   "metadata": {},
   "outputs": [
    {
     "data": {
      "text/plain": [
       "((442,), (442,))"
      ]
     },
     "execution_count": 7,
     "metadata": {},
     "output_type": "execute_result"
    }
   ],
   "source": [
    "error_ann = (y_hat_ann - y_true_ann)**2\n",
    "error_linreg.shape, error_ann.shape\n"
   ]
  },
  {
   "cell_type": "code",
   "execution_count": 15,
   "metadata": {},
   "outputs": [
    {
     "data": {
      "text/plain": [
       "TtestResult(statistic=-5.6919346119432515, pvalue=2.2942231604709003e-08, df=441)"
      ]
     },
     "execution_count": 15,
     "metadata": {},
     "output_type": "execute_result"
    }
   ],
   "source": []
  },
  {
   "cell_type": "markdown",
   "metadata": {},
   "source": [
    "### Baseline"
   ]
  },
  {
   "cell_type": "code",
   "execution_count": 23,
   "metadata": {},
   "outputs": [
    {
     "data": {
      "text/plain": [
       "1.000981366634369"
      ]
     },
     "execution_count": 23,
     "metadata": {},
     "output_type": "execute_result"
    }
   ],
   "source": [
    "from data import *\n",
    "import numpy as np\n",
    "import torch\n",
    "import torch.nn as nn\n",
    "import torch.optim as optim\n",
    "from sklearn.model_selection import KFold\n",
    "from sklearn.preprocessing import StandardScaler\n",
    "\n",
    "np.random.seed(2)\n",
    "torch.manual_seed(2)\n",
    "    \n",
    "# Convert the data to tensors\n",
    "X_tensor = torch.tensor(X, dtype=torch.float32)\n",
    "y_tensor = torch.tensor(y, dtype=torch.float32).view(-1, 1)\n",
    "\n",
    "# Define k-fold cross-validation\n",
    "kf = KFold(n_splits=10, shuffle=True)\n",
    "\n",
    "\n",
    "# List of important mse values\n",
    "mse_values = []\n",
    "y_true_base = np.array([])\n",
    "y_hat_base = np.array([])\n",
    "\n",
    "for train_idx, test_idx in kf.split(X_tensor):\n",
    "    x_train, x_test = X_tensor[train_idx], X_tensor[test_idx]\n",
    "    y_train, y_test = y_tensor[train_idx], y_tensor[test_idx]\n",
    "\n",
    "    y_mean = y_train.mean()\n",
    "\n",
    "    y_pred = y_mean.repeat(y_test.shape[0], 1)\n",
    "\n",
    "    y_hat_base = np.concatenate((y_hat_base,y_pred.numpy().flatten()))\n",
    "    y_true_base = np.concatenate((y_true_base,y_test.numpy().flatten()))  \n",
    "    mse = criterion(y_pred, y_test)\n",
    "    mse_values.append(mse.item())\n",
    "\n",
    "error_base = (y_hat_base - y_true_base)**2\n",
    "np.mean(mse_values)    "
   ]
  },
  {
   "cell_type": "code",
   "execution_count": 25,
   "metadata": {},
   "outputs": [
    {
     "data": {
      "text/plain": [
       "(TtestResult(statistic=-5.6919346119432515, pvalue=2.2942231604709003e-08, df=441),\n",
       " TtestResult(statistic=-10.325542601340365, pvalue=1.568240365173687e-22, df=441),\n",
       " TtestResult(statistic=-9.475504026424664, pvalue=1.6396805799028226e-19, df=441))"
      ]
     },
     "execution_count": 25,
     "metadata": {},
     "output_type": "execute_result"
    }
   ],
   "source": [
    "from scipy import stats\n",
    "lin_vs_ann = stats.ttest_rel(error_linreg, error_ann)\n",
    "lin_vs_base = stats.ttest_rel(error_linreg, error_base)\n",
    "ann_vs_base = stats.ttest_rel(error_ann, error_base)\n",
    "\n",
    "lin_vs_ann, lin_vs_base, ann_vs_base\n"
   ]
  },
  {
   "cell_type": "code",
   "execution_count": 40,
   "metadata": {},
   "outputs": [
    {
     "name": "stdout",
     "output_type": "stream",
     "text": [
      "lin vs ann (-0.20161767686315812, -0.09812133465746076)\n",
      "lin vs base (-0.5750239506831848, -0.39112728194443824)\n",
      "ann vs base (-0.40231792092495355, -0.2640943001820507)\n"
     ]
    }
   ],
   "source": [
    "import numpy as np\n",
    "from scipy import stats\n",
    "\n",
    "def calculate_confidence_interval(error1, error2):\n",
    "    # Calculate the difference and its mean and standard error\n",
    "    difference = error1 - error2\n",
    "    mean_diff = np.mean(difference)\n",
    "    std_err_diff = np.std(difference, ddof=1) / np.sqrt(442)\n",
    "    df = 441\n",
    "\n",
    "    # Calculate the confidence interval\n",
    "    confidence_interval = stats.t.interval(0.95, df, loc=mean_diff, scale=std_err_diff)\n",
    "\n",
    "    return confidence_interval\n",
    "\n",
    "\n",
    "print('lin vs ann', calculate_confidence_interval(error_linreg, error_ann))\n",
    "print('lin vs base', calculate_confidence_interval(error_linreg, error_base))\n",
    "print('ann vs base', calculate_confidence_interval(error_ann, error_base))"
   ]
  },
  {
   "cell_type": "code",
   "execution_count": null,
   "metadata": {},
   "outputs": [],
   "source": []
  }
 ],
 "metadata": {
  "kernelspec": {
   "display_name": "ml",
   "language": "python",
   "name": "python3"
  },
  "language_info": {
   "codemirror_mode": {
    "name": "ipython",
    "version": 3
   },
   "file_extension": ".py",
   "mimetype": "text/x-python",
   "name": "python",
   "nbconvert_exporter": "python",
   "pygments_lexer": "ipython3",
   "version": "3.11.7"
  }
 },
 "nbformat": 4,
 "nbformat_minor": 2
}
