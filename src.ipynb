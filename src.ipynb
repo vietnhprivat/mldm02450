{
 "cells": [
  {
   "cell_type": "markdown",
   "metadata": {},
   "source": [
    "# Project 2 source code"
   ]
  },
  {
   "cell_type": "code",
   "execution_count": 1,
   "metadata": {},
   "outputs": [],
   "source": [
    "from sklearn.datasets import load_diabetes\n",
    "import pandas as pd\n",
    "import matplotlib.pyplot as plt\n",
    "import numpy as np"
   ]
  },
  {
   "cell_type": "code",
   "execution_count": 2,
   "metadata": {},
   "outputs": [],
   "source": [
    "# Load dataset from sklearn\n",
    "X,y = load_diabetes(return_X_y=True, as_frame=True, scaled=False)\n",
    "\n",
    "# Convert to pandas dataframe\n",
    "data = pd.DataFrame(X)\n",
    "target = pd.DataFrame(y)\n",
    "\n",
    "# Rename columns\n",
    "data.rename(columns={'s1':'tc', 's2': 'ldl', 's3': 'hdl', 's4': 'tch', 's5': 'ltg', 's6': 'glu'}, inplace=True)\n"
   ]
  },
  {
   "cell_type": "markdown",
   "metadata": {},
   "source": [
    "## Simple test"
   ]
  },
  {
   "cell_type": "code",
   "execution_count": 5,
   "metadata": {},
   "outputs": [
    {
     "name": "stdout",
     "output_type": "stream",
     "text": [
      "Fold 1, Test MSE: 1.5777218104420236e-30\n",
      "Fold 2, Test MSE: 8.874685183736383e-31\n",
      "Fold 3, Test MSE: 0.0\n",
      "Fold 4, Test MSE: 6.310887241768095e-30\n",
      "Fold 5, Test MSE: 8.874685183736383e-31\n",
      "Average Mean Squared Error across all folds: 1.932709217791479e-30\n"
     ]
    }
   ],
   "source": [
    "import numpy as np\n",
    "from sklearn.model_selection import KFold\n",
    "from sklearn.linear_model import LinearRegression\n",
    "from sklearn.metrics import mean_squared_error\n",
    "\n",
    "# Sample data: replace with your actual data\n",
    "X = np.array([[1, 2], [3, 4], [1, 2], [3, 4], [5, 6], [7, 8], [7, 8], [9, 10], [11, 12], [13, 14]]) # 10 samples, 2 features\n",
    "y = np.array([2, 4, 2, 4, 6, 8, 8, 10, 12, 14])  # 10 samples, 1 target variable\n",
    "\n",
    "# Initialize KFold\n",
    "kf = KFold(n_splits=5, shuffle=True, random_state=42)\n",
    "\n",
    "# Lists to store results of each fold\n",
    "fold = 0\n",
    "errors = []\n",
    "\n",
    "# Perform K-Fold Cross-Validation\n",
    "for train_index, test_index in kf.split(X):\n",
    "    # Split data into training and testing sets\n",
    "    X_train, X_test = X[train_index], X[test_index]\n",
    "    y_train, y_test = y[train_index], y[test_index]\n",
    "\n",
    "    # Initialize linear regression model\n",
    "    model = LinearRegression()\n",
    "\n",
    "    # Train the model\n",
    "    model.fit(X_train, y_train)\n",
    "\n",
    "    # Predict on the test set\n",
    "    y_pred = model.predict(X_test)\n",
    "\n",
    "    # Calculate and store the error\n",
    "    mse = mean_squared_error(y_test, y_pred)\n",
    "    errors.append(mse)\n",
    "    fold += 1\n",
    "    print(f\"Fold {fold}, Test MSE: {mse}\")\n",
    "\n",
    "# Calculate the average error across all folds\n",
    "average_error = np.mean(errors)\n",
    "print(f\"Average Mean Squared Error across all folds: {average_error}\")\n"
   ]
  },
  {
   "cell_type": "code",
   "execution_count": null,
   "metadata": {},
   "outputs": [],
   "source": []
  }
 ],
 "metadata": {
  "kernelspec": {
   "display_name": "ml",
   "language": "python",
   "name": "python3"
  },
  "language_info": {
   "codemirror_mode": {
    "name": "ipython",
    "version": 3
   },
   "file_extension": ".py",
   "mimetype": "text/x-python",
   "name": "python",
   "nbconvert_exporter": "python",
   "pygments_lexer": "ipython3",
   "version": "3.11.7"
  }
 },
 "nbformat": 4,
 "nbformat_minor": 2
}
